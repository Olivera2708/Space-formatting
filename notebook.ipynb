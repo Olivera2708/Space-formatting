{
  "cells": [
    {
      "cell_type": "markdown",
      "metadata": {
        "id": "sD-spfwsWwvJ"
      },
      "source": [
        "## Dataset Preparation and Model Initialization\n",
        "To upload the model and dataset in Google Colab, you can use the following instructions:\n",
        "1.   Download the Model and Dataset from [Github](https://github.com/Olivera2708/Space-formatting)\n",
        "2.   Upload Files to Google Colab using the following code snippet"
      ]
    },
    {
      "cell_type": "code",
      "execution_count": 46,
      "metadata": {
        "colab": {
          "base_uri": "https://localhost:8080/",
          "height": 73
        },
        "id": "bW5sl3-NWtXv",
        "outputId": "5f35dce4-e625-4414-991c-1705c8a5d2aa"
      },
      "outputs": [
        {
          "data": {
            "text/html": [
              "\n",
              "     <input type=\"file\" id=\"files-e6daf46e-28ae-4450-9383-b8981e4f8b19\" name=\"files[]\" multiple disabled\n",
              "        style=\"border:none\" />\n",
              "     <output id=\"result-e6daf46e-28ae-4450-9383-b8981e4f8b19\">\n",
              "      Upload widget is only available when the cell has been executed in the\n",
              "      current browser session. Please rerun this cell to enable.\n",
              "      </output>\n",
              "      <script>// Copyright 2017 Google LLC\n",
              "//\n",
              "// Licensed under the Apache License, Version 2.0 (the \"License\");\n",
              "// you may not use this file except in compliance with the License.\n",
              "// You may obtain a copy of the License at\n",
              "//\n",
              "//      http://www.apache.org/licenses/LICENSE-2.0\n",
              "//\n",
              "// Unless required by applicable law or agreed to in writing, software\n",
              "// distributed under the License is distributed on an \"AS IS\" BASIS,\n",
              "// WITHOUT WARRANTIES OR CONDITIONS OF ANY KIND, either express or implied.\n",
              "// See the License for the specific language governing permissions and\n",
              "// limitations under the License.\n",
              "\n",
              "/**\n",
              " * @fileoverview Helpers for google.colab Python module.\n",
              " */\n",
              "(function(scope) {\n",
              "function span(text, styleAttributes = {}) {\n",
              "  const element = document.createElement('span');\n",
              "  element.textContent = text;\n",
              "  for (const key of Object.keys(styleAttributes)) {\n",
              "    element.style[key] = styleAttributes[key];\n",
              "  }\n",
              "  return element;\n",
              "}\n",
              "\n",
              "// Max number of bytes which will be uploaded at a time.\n",
              "const MAX_PAYLOAD_SIZE = 100 * 1024;\n",
              "\n",
              "function _uploadFiles(inputId, outputId) {\n",
              "  const steps = uploadFilesStep(inputId, outputId);\n",
              "  const outputElement = document.getElementById(outputId);\n",
              "  // Cache steps on the outputElement to make it available for the next call\n",
              "  // to uploadFilesContinue from Python.\n",
              "  outputElement.steps = steps;\n",
              "\n",
              "  return _uploadFilesContinue(outputId);\n",
              "}\n",
              "\n",
              "// This is roughly an async generator (not supported in the browser yet),\n",
              "// where there are multiple asynchronous steps and the Python side is going\n",
              "// to poll for completion of each step.\n",
              "// This uses a Promise to block the python side on completion of each step,\n",
              "// then passes the result of the previous step as the input to the next step.\n",
              "function _uploadFilesContinue(outputId) {\n",
              "  const outputElement = document.getElementById(outputId);\n",
              "  const steps = outputElement.steps;\n",
              "\n",
              "  const next = steps.next(outputElement.lastPromiseValue);\n",
              "  return Promise.resolve(next.value.promise).then((value) => {\n",
              "    // Cache the last promise value to make it available to the next\n",
              "    // step of the generator.\n",
              "    outputElement.lastPromiseValue = value;\n",
              "    return next.value.response;\n",
              "  });\n",
              "}\n",
              "\n",
              "/**\n",
              " * Generator function which is called between each async step of the upload\n",
              " * process.\n",
              " * @param {string} inputId Element ID of the input file picker element.\n",
              " * @param {string} outputId Element ID of the output display.\n",
              " * @return {!Iterable<!Object>} Iterable of next steps.\n",
              " */\n",
              "function* uploadFilesStep(inputId, outputId) {\n",
              "  const inputElement = document.getElementById(inputId);\n",
              "  inputElement.disabled = false;\n",
              "\n",
              "  const outputElement = document.getElementById(outputId);\n",
              "  outputElement.innerHTML = '';\n",
              "\n",
              "  const pickedPromise = new Promise((resolve) => {\n",
              "    inputElement.addEventListener('change', (e) => {\n",
              "      resolve(e.target.files);\n",
              "    });\n",
              "  });\n",
              "\n",
              "  const cancel = document.createElement('button');\n",
              "  inputElement.parentElement.appendChild(cancel);\n",
              "  cancel.textContent = 'Cancel upload';\n",
              "  const cancelPromise = new Promise((resolve) => {\n",
              "    cancel.onclick = () => {\n",
              "      resolve(null);\n",
              "    };\n",
              "  });\n",
              "\n",
              "  // Wait for the user to pick the files.\n",
              "  const files = yield {\n",
              "    promise: Promise.race([pickedPromise, cancelPromise]),\n",
              "    response: {\n",
              "      action: 'starting',\n",
              "    }\n",
              "  };\n",
              "\n",
              "  cancel.remove();\n",
              "\n",
              "  // Disable the input element since further picks are not allowed.\n",
              "  inputElement.disabled = true;\n",
              "\n",
              "  if (!files) {\n",
              "    return {\n",
              "      response: {\n",
              "        action: 'complete',\n",
              "      }\n",
              "    };\n",
              "  }\n",
              "\n",
              "  for (const file of files) {\n",
              "    const li = document.createElement('li');\n",
              "    li.append(span(file.name, {fontWeight: 'bold'}));\n",
              "    li.append(span(\n",
              "        `(${file.type || 'n/a'}) - ${file.size} bytes, ` +\n",
              "        `last modified: ${\n",
              "            file.lastModifiedDate ? file.lastModifiedDate.toLocaleDateString() :\n",
              "                                    'n/a'} - `));\n",
              "    const percent = span('0% done');\n",
              "    li.appendChild(percent);\n",
              "\n",
              "    outputElement.appendChild(li);\n",
              "\n",
              "    const fileDataPromise = new Promise((resolve) => {\n",
              "      const reader = new FileReader();\n",
              "      reader.onload = (e) => {\n",
              "        resolve(e.target.result);\n",
              "      };\n",
              "      reader.readAsArrayBuffer(file);\n",
              "    });\n",
              "    // Wait for the data to be ready.\n",
              "    let fileData = yield {\n",
              "      promise: fileDataPromise,\n",
              "      response: {\n",
              "        action: 'continue',\n",
              "      }\n",
              "    };\n",
              "\n",
              "    // Use a chunked sending to avoid message size limits. See b/62115660.\n",
              "    let position = 0;\n",
              "    do {\n",
              "      const length = Math.min(fileData.byteLength - position, MAX_PAYLOAD_SIZE);\n",
              "      const chunk = new Uint8Array(fileData, position, length);\n",
              "      position += length;\n",
              "\n",
              "      const base64 = btoa(String.fromCharCode.apply(null, chunk));\n",
              "      yield {\n",
              "        response: {\n",
              "          action: 'append',\n",
              "          file: file.name,\n",
              "          data: base64,\n",
              "        },\n",
              "      };\n",
              "\n",
              "      let percentDone = fileData.byteLength === 0 ?\n",
              "          100 :\n",
              "          Math.round((position / fileData.byteLength) * 100);\n",
              "      percent.textContent = `${percentDone}% done`;\n",
              "\n",
              "    } while (position < fileData.byteLength);\n",
              "  }\n",
              "\n",
              "  // All done.\n",
              "  yield {\n",
              "    response: {\n",
              "      action: 'complete',\n",
              "    }\n",
              "  };\n",
              "}\n",
              "\n",
              "scope.google = scope.google || {};\n",
              "scope.google.colab = scope.google.colab || {};\n",
              "scope.google.colab._files = {\n",
              "  _uploadFiles,\n",
              "  _uploadFilesContinue,\n",
              "};\n",
              "})(self);\n",
              "</script> "
            ],
            "text/plain": [
              "<IPython.core.display.HTML object>"
            ]
          },
          "metadata": {},
          "output_type": "display_data"
        },
        {
          "name": "stdout",
          "output_type": "stream",
          "text": [
            "Saving model.pth to model.pth\n"
          ]
        }
      ],
      "source": [
        "from google.colab import files\n",
        "\n",
        "uploaded = files.upload()"
      ]
    },
    {
      "cell_type": "markdown",
      "metadata": {
        "id": "3ewet37jS1_d"
      },
      "source": [
        "## Import Necessary Libraries\n",
        "In this section, we will import all the libraries and modules required for our project. This includes libraries for data processing, model training, evaluation, and visualization.\n"
      ]
    },
    {
      "cell_type": "code",
      "execution_count": 36,
      "metadata": {
        "id": "l9TJ_FIdSJoL"
      },
      "outputs": [],
      "source": [
        "from sklearn.model_selection import train_test_split\n",
        "import torch\n",
        "from torch.utils.data import DataLoader, TensorDataset\n",
        "import torch.nn as nn\n",
        "from sklearn.metrics import confusion_matrix\n",
        "import matplotlib.pyplot as plt\n",
        "import seaborn as sns\n",
        "import pandas as pd\n",
        "import re"
      ]
    },
    {
      "cell_type": "markdown",
      "metadata": {
        "id": "GhwLGR9cWCIG"
      },
      "source": [
        "## Make training and validation set\n",
        "Define a function to load first 10 000 Java codes from the dataset."
      ]
    },
    {
      "cell_type": "code",
      "execution_count": 37,
      "metadata": {
        "id": "DEaQtP0dcNol"
      },
      "outputs": [],
      "source": [
        "columns_to_keep = ['code', 'formatted']\n",
        "\n",
        "def load_data():\n",
        "    df = pd.read_json(\"data.jsonl\", lines=True)\n",
        "    return df[columns_to_keep].head(10000)"
      ]
    },
    {
      "cell_type": "markdown",
      "metadata": {
        "id": "n7KL6p2oc3yJ"
      },
      "source": [
        "Next function analyzes a given Java code snippet, identifying various components such as keywords, annotations, identifiers, operators, punctuation, literals, and whitespace using predefined regular expressions. It returns a list of tuples, each containing a token and its corresponding type index, facilitating further processing or analysis of the code."
      ]
    },
    {
      "cell_type": "code",
      "execution_count": 38,
      "metadata": {
        "id": "w7o_cWY9dDYh"
      },
      "outputs": [],
      "source": [
        "def tokenize_and_classify(code):\n",
        "    code = code.replace(\"  \", \"\\t\")\n",
        "    code = code.replace(\"\\n\\t\", \"\\n\")\n",
        "    token_patterns = {\n",
        "        \"keyword\": r'\\b(public|private|protected|static|final|transient|volatile|abstract|synchronized|native|strictfp|interface|implements|extends|super|this|class|enum|package|import|return|void|if|else|for|while|do|switch|case|default|break|continue|try|catch|finally|throw|throws|assert|instanceof|new|instanceof|const|goto|boolean|byte|char|short|int|long|float|double)\\b',\n",
        "        \"annotation\": r'@\\b[a-zA-Z_][a-zA-Z0-9_]*\\b',\n",
        "        \"identifier\": r'\\b[a-zA-Z_][a-zA-Z0-9_]*\\b',\n",
        "        \"operator\": r'[+\\-*/=<>!&|%^]',\n",
        "        \"punctuation\": r'[(){}[\\];,.]',\n",
        "        \"literal\": r'\\b\\d+(\\.\\d+)?\\b',\n",
        "        \"whitespace\": r'[ \\n\\t]+',\n",
        "    }\n",
        "\n",
        "\n",
        "    combined_pattern = '|'.join(f'(?P<{key}>{value})' for key, value in token_patterns.items())\n",
        "    tokens = []\n",
        "    for match in re.finditer(combined_pattern, code):\n",
        "        for token_type, token_value in match.groupdict().items():\n",
        "            if token_value:\n",
        "                if token_type == 'keyword':\n",
        "                    tokens.append((token_value, 0))\n",
        "                elif token_type == 'annotation':\n",
        "                    tokens.append((token_value, 1))\n",
        "                elif token_type == 'identifier':\n",
        "                    tokens.append((token_value, 2))\n",
        "                elif token_type == 'operator':\n",
        "                    tokens.append((token_value, 3))\n",
        "                elif token_type == 'punctuation':\n",
        "                    tokens.append((token_value, 4))\n",
        "                elif token_type == 'literal':\n",
        "                    tokens.append((token_value, 5))\n",
        "                elif token_type == 'whitespace':\n",
        "                    tokens.append((token_value, 6))\n",
        "\n",
        "    return tokens"
      ]
    },
    {
      "cell_type": "markdown",
      "metadata": {
        "id": "fKcqNX7Cdbps"
      },
      "source": [
        "To prepare the vocabulary for the model, we will define a function that builds a mapping of tokens to unique indices. This vocabulary will be essential for converting tokens into a format that the model can process."
      ]
    },
    {
      "cell_type": "code",
      "execution_count": 39,
      "metadata": {
        "id": "elAlekSUdgdU"
      },
      "outputs": [],
      "source": [
        "def create_vocab(tokens, vocab_stoi, vocab_itos):\n",
        "    for current_token, current_type in tokens:\n",
        "        if current_type == 6:\n",
        "            continue\n",
        "        elif current_token not in vocab_stoi:\n",
        "            vocab_stoi[current_token] = len(vocab_stoi)\n",
        "            vocab_itos[len(vocab_itos)] = current_token\n",
        "\n",
        "    return vocab_stoi, vocab_itos"
      ]
    },
    {
      "cell_type": "markdown",
      "metadata": {
        "id": "M7v71JWldsDX"
      },
      "source": [
        "To prepare the input and output data for the model, we will define a function that converts the tokenized code into a suitable format.\n",
        "\n",
        "The input will consist of the token indices and their types, while the output will be the spacing types, which include no space, space, newline, and newline with tabs."
      ]
    },
    {
      "cell_type": "code",
      "execution_count": 40,
      "metadata": {
        "id": "h35FlH4wd188"
      },
      "outputs": [],
      "source": [
        "def tokenize_and_create_input_output(tokens, vocab_stoi):\n",
        "    input = []\n",
        "    output = []\n",
        "    i = 0\n",
        "\n",
        "    while i < len(tokens) - 1:\n",
        "        current_token, current_type = tokens[i]\n",
        "        next_token, next_type = tokens[i + 1]\n",
        "\n",
        "        space_type = 0 #none\n",
        "\n",
        "        if current_type == 6:\n",
        "            i+=1\n",
        "            continue\n",
        "\n",
        "        try:\n",
        "            if next_type == 6:\n",
        "                whitespace = next_token\n",
        "                next_token, next_type = tokens[i + 2]\n",
        "\n",
        "                if '\\n' == whitespace:\n",
        "                    space_type = 3 #newline\n",
        "                elif '\\n' in whitespace and '\\t' in whitespace:\n",
        "                    space_type = 2 #newline+tab\n",
        "                else:\n",
        "                    space_type = 1 #space\n",
        "\n",
        "            input.append((vocab_stoi[current_token], current_type))\n",
        "            output.append(space_type)\n",
        "        except Exception as e:\n",
        "            pass\n",
        "        i += 1\n",
        "\n",
        "    if tokens[-1][1] != 6:\n",
        "        input.append((vocab_stoi[tokens[-1][0]], tokens[-1][1]))\n",
        "        output.append(0)\n",
        "    return input, output"
      ]
    },
    {
      "cell_type": "markdown",
      "metadata": {
        "id": "EFIFg9UueLZR"
      },
      "source": [
        "### Connecting All Components with a Unified Function\n",
        "\n",
        "To integrate all the steps involved in preparing the dataset and creating input-output pairs for the model, we can define a function that ties together the tokenization, vocabulary creation, and input-output generation processes. This function will also reserve the `<UNK>` token for any unseen words during training."
      ]
    },
    {
      "cell_type": "code",
      "execution_count": 41,
      "metadata": {
        "id": "5sKECznHeO1z"
      },
      "outputs": [],
      "source": [
        "def get_input_output_training(train_data):\n",
        "    vocab_stoi = {\"<UNK>\": 0}\n",
        "    vocab_itos = {0: \"<UNK>\"}\n",
        "    input = []\n",
        "    output = []\n",
        "\n",
        "    for d in train_data[\"formatted\"]:\n",
        "        tokens = tokenize_and_classify(d)\n",
        "        vocab_stoi, vocab_itos = create_vocab(tokens, vocab_stoi, vocab_itos)\n",
        "        new_input, new_output = tokenize_and_create_input_output(tokens, vocab_stoi)\n",
        "\n",
        "        input.extend(new_input)\n",
        "        output.extend(new_output)\n",
        "\n",
        "    return input, output, vocab_stoi, vocab_itos"
      ]
    },
    {
      "cell_type": "code",
      "execution_count": 42,
      "metadata": {
        "id": "hurdd5ktfFos"
      },
      "outputs": [],
      "source": [
        "data = load_data()\n",
        "input, output, vocab_stoi, vocab_itos = get_input_output_training(data)\n",
        "input = torch.tensor(input, dtype=torch.long)\n",
        "output = torch.tensor(output, dtype=torch.long)\n",
        "training_inputs, validation_inputs, training_outputs, validation_outputs = train_test_split(input, output, test_size=0.2, random_state=27)"
      ]
    },
    {
      "cell_type": "markdown",
      "metadata": {
        "id": "mTilCHZ3mBdG"
      },
      "source": [
        "Now we have our training and validation sets ready for use."
      ]
    },
    {
      "cell_type": "markdown",
      "metadata": {
        "id": "jSiq6jPcfiRG"
      },
      "source": [
        "## Model\n",
        "\n",
        "The `TokenSpacingModel` is a small Transformer neural network designed for predicting spacing classes between tokens in Java code.\n",
        "\n",
        "Key Features:\n",
        "- **Embeddings:** It incorporates two embedding layers for token and type representations, allowing the model to understand the relationships between different tokens and their roles.\n",
        "- **Transformer Encoder:** The model uses a Transformer encoder to effectively capture the context and dependencies within token sequences, enabling better spacing predictions.\n",
        "- **Output Layer:** A fully connected layer generates the predicted spacing classes, including options like no spacing, space, newline, and newline with tabs."
      ]
    },
    {
      "cell_type": "code",
      "execution_count": 43,
      "metadata": {
        "id": "btPz6Ruofjlg"
      },
      "outputs": [],
      "source": [
        "class TokenSpacingModel(nn.Module):\n",
        "    def __init__(self, vocab_size, embedding_dim=64, num_token_types=6, hidden_dim=256, output_dim=4, num_heads=8, num_layers=6):\n",
        "        super(TokenSpacingModel, self).__init__()\n",
        "\n",
        "        self.token_embedding = nn.Embedding(vocab_size, embedding_dim)\n",
        "        self.type_embedding = nn.Embedding(num_token_types, embedding_dim)\n",
        "\n",
        "        self.transformer_encoder = nn.TransformerEncoder(\n",
        "            nn.TransformerEncoderLayer(d_model=embedding_dim, nhead=num_heads, dim_feedforward=hidden_dim, batch_first=True),\n",
        "            num_layers=num_layers\n",
        "        )\n",
        "\n",
        "        self.fc_type = nn.Linear(embedding_dim, output_dim)\n",
        "\n",
        "    def forward(self, batch_input):\n",
        "        tokens = batch_input[:, 0]\n",
        "        types = batch_input[:, 1]\n",
        "\n",
        "        token_embeddings = self.token_embedding(tokens)\n",
        "        type_embeddings = self.type_embedding(types)\n",
        "\n",
        "        combined_embeddings = token_embeddings + type_embeddings\n",
        "        combined_embeddings = combined_embeddings.unsqueeze(1)\n",
        "\n",
        "        transformer_output = self.transformer_encoder(combined_embeddings.permute(1, 0, 2))\n",
        "        final_token_embedding = transformer_output[-1, :, :]\n",
        "\n",
        "        type_pred = self.fc_type(final_token_embedding)\n",
        "        return type_pred\n"
      ]
    },
    {
      "cell_type": "markdown",
      "metadata": {
        "id": "AhsllF5ZhMev"
      },
      "source": [
        "### Loading the Model for Evaluation\n",
        "\n",
        "In this step, we will load the pre-trained `TokenSpacingModel` to assess its performance on our validation dataset. Loading the model involves retrieving its state dictionary from a saved checkpoint and preparing it for evaluation. This allows us to measure how well the model can predict the spacing between tokens based on the learned representations."
      ]
    },
    {
      "cell_type": "code",
      "execution_count": 44,
      "metadata": {
        "id": "0qmdJNt5hJfX"
      },
      "outputs": [],
      "source": [
        "def load_model(model_class, vocab_size, model_path, device):\n",
        "    model = model_class(vocab_size)\n",
        "    model.load_state_dict(torch.load(model_path, map_location=device))\n",
        "    model.to(device)\n",
        "    model.eval()\n",
        "    return model"
      ]
    },
    {
      "cell_type": "code",
      "execution_count": 47,
      "metadata": {
        "colab": {
          "base_uri": "https://localhost:8080/"
        },
        "id": "Xeq42tpffm1x",
        "outputId": "dd748ddf-bbb2-4ee4-d624-c617c8570a59"
      },
      "outputs": [
        {
          "name": "stderr",
          "output_type": "stream",
          "text": [
            "<ipython-input-44-3dc066330c23>:3: FutureWarning: You are using `torch.load` with `weights_only=False` (the current default value), which uses the default pickle module implicitly. It is possible to construct malicious pickle data which will execute arbitrary code during unpickling (See https://github.com/pytorch/pytorch/blob/main/SECURITY.md#untrusted-models for more details). In a future release, the default value for `weights_only` will be flipped to `True`. This limits the functions that could be executed during unpickling. Arbitrary objects will no longer be allowed to be loaded via this mode unless they are explicitly allowlisted by the user via `torch.serialization.add_safe_globals`. We recommend you start setting `weights_only=True` for any use case where you don't have full control of the loaded file. Please open an issue on GitHub for any issues related to this experimental feature.\n",
            "  model.load_state_dict(torch.load(model_path, map_location=device))\n"
          ]
        }
      ],
      "source": [
        "vocab_size = len(vocab_stoi)\n",
        "device = torch.device(\"cuda\" if torch.cuda.is_available() else \"cpu\")\n",
        "\n",
        "code_model = TokenSpacingModel(vocab_size).to(device)\n",
        "loss_fn_type = torch.nn.CrossEntropyLoss()\n",
        "optimizer = torch.optim.AdamW(code_model.parameters(), lr=0.001)\n",
        "\n",
        "code_model = load_model(TokenSpacingModel, vocab_size, \"model.pth\", device)"
      ]
    },
    {
      "cell_type": "markdown",
      "metadata": {
        "id": "PbkKQG-LhdnT"
      },
      "source": [
        "## Confusion Matrix Visualization\n",
        "\n",
        "The `plot_confusion_matrix` function visualizes the performance of the model by displaying a confusion matrix. A confusion matrix is a table that allows us to see the number of correct and incorrect predictions made by the model across different classes.\n",
        "\n",
        "This function takes two parameters: `true_labels`, which represent the actual labels, and `pred_labels`, which are the predicted labels from the model. The matrix is plotted using seaborn’s heatmap for better clarity, with annotations indicating the number of predictions for each class. This visualization helps in understanding where the model is performing well and where it might be misclassifying tokens."
      ]
    },
    {
      "cell_type": "code",
      "execution_count": 48,
      "metadata": {
        "id": "WtjdYjqVhfym"
      },
      "outputs": [],
      "source": [
        "def plot_confusion_matrix(true_labels, pred_labels):\n",
        "    cm = confusion_matrix(true_labels, pred_labels)\n",
        "    plt.figure(figsize=(10, 7))\n",
        "    sns.heatmap(cm, annot=True, fmt='d', cmap='Blues')\n",
        "    plt.xlabel('Predicted')\n",
        "    plt.ylabel('Actual')\n",
        "    plt.title('Confusion Matrix of Spacing Type Predictions')\n",
        "    plt.show()"
      ]
    },
    {
      "cell_type": "markdown",
      "metadata": {
        "id": "zWiNgmCmhxMN"
      },
      "source": [
        "## Evaluation\n",
        "\n",
        "The `evaluate` function assesses the performance of the trained model on the evaluation dataset. It processes the input data in batches and calculates both top-1 and top-3 accuracy metrics to determine how often the correct spacing type is predicted. Additionally, it visualizes the results using a confusion matrix, which provides insights into the model's performance across different classes."
      ]
    },
    {
      "cell_type": "code",
      "execution_count": 50,
      "metadata": {
        "colab": {
          "base_uri": "https://localhost:8080/",
          "height": 676
        },
        "id": "Yw8r-1GYhwX8",
        "outputId": "0efcb794-edb4-421d-a900-feb2aec283a3"
      },
      "outputs": [
        {
          "name": "stdout",
          "output_type": "stream",
          "text": [
            "Top-1 Accuracy for Spacing Type: 80.30%\n",
            "Top-3 Accuracy for Spacing Type: 99.89%\n"
          ]
        },
        {
          "data": {
            "image/png": "[encoded data removed]",
            "text/plain": [
              "<Figure size 1000x700 with 2 Axes>"
            ]
          },
          "metadata": {},
          "output_type": "display_data"
        }
      ],
      "source": [
        "def evaluate(model, eval_inputs, eval_outputs, batch_size, device, length_threshold=0.1):\n",
        "    model.eval()\n",
        "    dataset = TensorDataset(eval_inputs, eval_outputs)\n",
        "    dataloader = DataLoader(dataset, batch_size=batch_size)\n",
        "\n",
        "    correct_type_top1 = 0\n",
        "    correct_type_top3 = 0\n",
        "    total_type = 0\n",
        "\n",
        "    all_labels = []\n",
        "    all_predictions = []\n",
        "\n",
        "    with torch.no_grad():\n",
        "        for input_batch, output_batch in dataloader:\n",
        "            input_batch, output_batch = input_batch.to(device), output_batch.to(device)\n",
        "\n",
        "            spacing_type_pred = model(input_batch)\n",
        "\n",
        "            _, top3_pred_type = torch.topk(spacing_type_pred, 3, dim=1)\n",
        "\n",
        "            top1_pred_type = top3_pred_type[:, 0]\n",
        "            correct_type_top1 += torch.sum(top1_pred_type == output_batch).item()\n",
        "\n",
        "            correct_type_top3 += torch.sum(torch.isin(output_batch, top3_pred_type)).item()\n",
        "\n",
        "            total_type += len(input_batch)\n",
        "\n",
        "            all_labels.extend(output_batch.cpu().numpy())\n",
        "            all_predictions.extend(top1_pred_type.cpu().numpy())\n",
        "\n",
        "    top1_accuracy_type = correct_type_top1 / total_type * 100\n",
        "    top3_accuracy_type = correct_type_top3 / total_type * 100\n",
        "\n",
        "    print(f\"Top-1 Accuracy for Spacing Type: {top1_accuracy_type:.2f}%\")\n",
        "    print(f\"Top-3 Accuracy for Spacing Type: {top3_accuracy_type:.2f}%\")\n",
        "    plot_confusion_matrix(all_labels, all_predictions)\n",
        "\n",
        "evaluate(code_model, validation_inputs, validation_outputs, batch_size, device)"
      ]
    },
    {
      "cell_type": "markdown",
      "metadata": {
        "id": "9m6enjHVijwf"
      },
      "source": [
        "## Results\n",
        "In this section, we assess the performance of our trained Transformer model on Java code snippets, specifically evaluating its ability to predict spacing between tokens.\n",
        "\n",
        "### Accuracy Metrics\n",
        "- **Top-1 Accuracy**: 80.30%\n",
        "- **Top-3 Accuracy**: 99.89%\n",
        "\n",
        "These results demonstrate that the model is highly effective at predicting the correct spacing between consecutive tokens in Java code.\n",
        "\n",
        "### Confusion Matrix\n",
        "The confusion matrix above provides a visual representation of the model's performance, illustrating the distribution of correct and incorrect predictions across various spacing classes. This allows for a deeper understanding of where the model excels and where improvements may be needed."
      ]
    }
  ],
  "metadata": {
    "colab": {
      "provenance": []
    },
    "kernelspec": {
      "display_name": "Python 3",
      "name": "python3"
    },
    "language_info": {
      "name": "python"
    }
  },
  "nbformat": 4,
  "nbformat_minor": 0
}
